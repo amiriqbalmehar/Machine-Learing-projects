{
 "cells": [
  {
   "cell_type": "markdown",
   "metadata": {},
   "source": [
    "# SMS Spam Classification Project\n",
    "\n",
    "This notebook combines the entire workflow for the SMS Spam Classification project into one place. We will perform the following steps:\n",
    "\n",
    "1.  **Setup**: Install and import necessary libraries.\n",
    "2.  **Download Data**: Automatically download the SMS spam dataset from Kaggle.\n",
    "3.  **Pre-processing**: Clean and prepare the text data for machine learning. This includes lowercasing, removing punctuation, tokenization, removing stopwords, and stemming.\n",
    "4.  **Feature Selection**: Use TF-IDF to convert text data into numerical features.\n",
    "5.  **Train Models**: Train three different classifiers: Gaussian Naïve Bayes, Multinomial Naïve Bayes, and a Decision Tree.\n",
    "6.  **Evaluate Models**: Compare the accuracy and confusion matrices of the models to see which one performs best.\n",
    "7.  **Interactive Prediction**: Use the best model to classify new messages that you provide."
   ]
  },
  {
   "cell_type": "markdown",
   "metadata": {},
   "source": [
    "## Step 1: Setup and Library Imports\n",
    "\n",
    "First, let's import all the libraries we'll need for this project."
   ]
  },
  {
   "cell_type": "code",
   "execution_count": null,
   "metadata": {},
   "outputs": [],
   "source": [
    "pip install nltk"
   ]
  },
  {
   "cell_type": "code",
   "execution_count": 18,
   "metadata": {},
   "outputs": [
    {
     "name": "stdout",
     "output_type": "stream",
     "text": [
      "Downloading NLTK 'punkt'...\n"
     ]
    },
    {
     "name": "stderr",
     "output_type": "stream",
     "text": [
      "[nltk_data] Downloading package punkt to\n",
      "[nltk_data]     C:\\Users\\amir\\AppData\\Roaming\\nltk_data...\n"
     ]
    },
    {
     "name": "stdout",
     "output_type": "stream",
     "text": [
      "Setup Complete!\n"
     ]
    },
    {
     "name": "stderr",
     "output_type": "stream",
     "text": [
      "[nltk_data]   Package punkt is already up-to-date!\n"
     ]
    }
   ],
   "source": [
    "# For data manipulation and analysis\n",
    "import pandas as pd\n",
    "import numpy as np\n",
    "\n",
    "# For text preprocessing\n",
    "import re\n",
    "import nltk\n",
    "from nltk.corpus import stopwords\n",
    "from nltk.stem import PorterStemmer\n",
    "from nltk.tokenize import word_tokenize\n",
    "\n",
    "# For feature extraction\n",
    "from sklearn.feature_extraction.text import TfidfVectorizer\n",
    "\n",
    "# For splitting data and training models\n",
    "from sklearn.model_selection import train_test_split\n",
    "from sklearn.naive_bayes import GaussianNB, MultinomialNB\n",
    "from sklearn.tree import DecisionTreeClassifier\n",
    "\n",
    "# For evaluating models\n",
    "from sklearn.metrics import accuracy_score, confusion_matrix\n",
    "\n",
    "# For data visualization\n",
    "import matplotlib.pyplot as plt\n",
    "import seaborn as sns\n",
    "\n",
    "\n",
    "# Ensure the NLTK data is available\n",
    "try:\n",
    "    stopwords.words('english')\n",
    "except LookupError:\n",
    "    print(\"Downloading NLTK 'stopwords'...\")\n",
    "    nltk.download('stopwords')\n",
    "try:\n",
    "    word_tokenize('test')\n",
    "except LookupError:\n",
    "    print(\"Downloading NLTK 'punkt'...\")\n",
    "    nltk.download('punkt')\n",
    "\n",
    "print(\"Setup Complete!\")"
   ]
  },
  {
   "cell_type": "markdown",
   "metadata": {},
   "source": [
    "## Step 2: Download and Load Dataset\n",
    "\n",
    "We will use the `kagglehub` library to download the 'SMS Spam Collection Dataset' from UCI."
   ]
  },
  {
   "cell_type": "code",
   "execution_count": 19,
   "metadata": {},
   "outputs": [
    {
     "name": "stdout",
     "output_type": "stream",
     "text": [
      "\n",
      "Dataset loaded successfully!\n"
     ]
    },
    {
     "data": {
      "text/html": [
       "<div>\n",
       "<style scoped>\n",
       "    .dataframe tbody tr th:only-of-type {\n",
       "        vertical-align: middle;\n",
       "    }\n",
       "\n",
       "    .dataframe tbody tr th {\n",
       "        vertical-align: top;\n",
       "    }\n",
       "\n",
       "    .dataframe thead th {\n",
       "        text-align: right;\n",
       "    }\n",
       "</style>\n",
       "<table border=\"1\" class=\"dataframe\">\n",
       "  <thead>\n",
       "    <tr style=\"text-align: right;\">\n",
       "      <th></th>\n",
       "      <th>v1</th>\n",
       "      <th>v2</th>\n",
       "      <th>Unnamed: 2</th>\n",
       "      <th>Unnamed: 3</th>\n",
       "      <th>Unnamed: 4</th>\n",
       "    </tr>\n",
       "  </thead>\n",
       "  <tbody>\n",
       "    <tr>\n",
       "      <th>0</th>\n",
       "      <td>ham</td>\n",
       "      <td>Go until jurong point, crazy.. Available only ...</td>\n",
       "      <td>NaN</td>\n",
       "      <td>NaN</td>\n",
       "      <td>NaN</td>\n",
       "    </tr>\n",
       "    <tr>\n",
       "      <th>1</th>\n",
       "      <td>ham</td>\n",
       "      <td>Ok lar... Joking wif u oni...</td>\n",
       "      <td>NaN</td>\n",
       "      <td>NaN</td>\n",
       "      <td>NaN</td>\n",
       "    </tr>\n",
       "    <tr>\n",
       "      <th>2</th>\n",
       "      <td>spam</td>\n",
       "      <td>Free entry in 2 a wkly comp to win FA Cup fina...</td>\n",
       "      <td>NaN</td>\n",
       "      <td>NaN</td>\n",
       "      <td>NaN</td>\n",
       "    </tr>\n",
       "    <tr>\n",
       "      <th>3</th>\n",
       "      <td>ham</td>\n",
       "      <td>U dun say so early hor... U c already then say...</td>\n",
       "      <td>NaN</td>\n",
       "      <td>NaN</td>\n",
       "      <td>NaN</td>\n",
       "    </tr>\n",
       "    <tr>\n",
       "      <th>4</th>\n",
       "      <td>ham</td>\n",
       "      <td>Nah I don't think he goes to usf, he lives aro...</td>\n",
       "      <td>NaN</td>\n",
       "      <td>NaN</td>\n",
       "      <td>NaN</td>\n",
       "    </tr>\n",
       "  </tbody>\n",
       "</table>\n",
       "</div>"
      ],
      "text/plain": [
       "     v1                                                 v2 Unnamed: 2  \\\n",
       "0   ham  Go until jurong point, crazy.. Available only ...        NaN   \n",
       "1   ham                      Ok lar... Joking wif u oni...        NaN   \n",
       "2  spam  Free entry in 2 a wkly comp to win FA Cup fina...        NaN   \n",
       "3   ham  U dun say so early hor... U c already then say...        NaN   \n",
       "4   ham  Nah I don't think he goes to usf, he lives aro...        NaN   \n",
       "\n",
       "  Unnamed: 3 Unnamed: 4  \n",
       "0        NaN        NaN  \n",
       "1        NaN        NaN  \n",
       "2        NaN        NaN  \n",
       "3        NaN        NaN  \n",
       "4        NaN        NaN  "
      ]
     },
     "execution_count": 19,
     "metadata": {},
     "output_type": "execute_result"
    }
   ],
   "source": [
    "\n",
    "# Load the dataset using pandas\n",
    "df = pd.read_csv('spam.csv', encoding='latin-1')\n",
    "\n",
    "print(\"\\nDataset loaded successfully!\")\n",
    "df.head()"
   ]
  },
  {
   "cell_type": "markdown",
   "metadata": {},
   "source": [
    "## Step 3: Data Pre-processing\n",
    "\n",
    "The raw data needs to be cleaned before we can use it. We will:\n",
    "1.  Drop unnecessary columns and rename the important ones to `label` and `message`.\n",
    "2.  Convert the text labels ('ham', 'spam') into numerical labels (0, 1).\n",
    "3.  Create a `preprocess_text` function to clean the SMS messages."
   ]
  },
  {
   "cell_type": "code",
   "execution_count": 20,
   "metadata": {},
   "outputs": [
    {
     "data": {
      "text/html": [
       "<div>\n",
       "<style scoped>\n",
       "    .dataframe tbody tr th:only-of-type {\n",
       "        vertical-align: middle;\n",
       "    }\n",
       "\n",
       "    .dataframe tbody tr th {\n",
       "        vertical-align: top;\n",
       "    }\n",
       "\n",
       "    .dataframe thead th {\n",
       "        text-align: right;\n",
       "    }\n",
       "</style>\n",
       "<table border=\"1\" class=\"dataframe\">\n",
       "  <thead>\n",
       "    <tr style=\"text-align: right;\">\n",
       "      <th></th>\n",
       "      <th>label</th>\n",
       "      <th>message</th>\n",
       "    </tr>\n",
       "  </thead>\n",
       "  <tbody>\n",
       "    <tr>\n",
       "      <th>0</th>\n",
       "      <td>0</td>\n",
       "      <td>Go until jurong point, crazy.. Available only ...</td>\n",
       "    </tr>\n",
       "    <tr>\n",
       "      <th>1</th>\n",
       "      <td>0</td>\n",
       "      <td>Ok lar... Joking wif u oni...</td>\n",
       "    </tr>\n",
       "    <tr>\n",
       "      <th>2</th>\n",
       "      <td>1</td>\n",
       "      <td>Free entry in 2 a wkly comp to win FA Cup fina...</td>\n",
       "    </tr>\n",
       "    <tr>\n",
       "      <th>3</th>\n",
       "      <td>0</td>\n",
       "      <td>U dun say so early hor... U c already then say...</td>\n",
       "    </tr>\n",
       "    <tr>\n",
       "      <th>4</th>\n",
       "      <td>0</td>\n",
       "      <td>Nah I don't think he goes to usf, he lives aro...</td>\n",
       "    </tr>\n",
       "  </tbody>\n",
       "</table>\n",
       "</div>"
      ],
      "text/plain": [
       "   label                                            message\n",
       "0      0  Go until jurong point, crazy.. Available only ...\n",
       "1      0                      Ok lar... Joking wif u oni...\n",
       "2      1  Free entry in 2 a wkly comp to win FA Cup fina...\n",
       "3      0  U dun say so early hor... U c already then say...\n",
       "4      0  Nah I don't think he goes to usf, he lives aro..."
      ]
     },
     "execution_count": 20,
     "metadata": {},
     "output_type": "execute_result"
    }
   ],
   "source": [
    "# Drop unnecessary columns and rename for clarity\n",
    "df = df.iloc[:, :2]\n",
    "df.columns = ['label', 'message']\n",
    "\n",
    "# Convert labels to numerical (ham: 0, spam: 1)\n",
    "df['label'] = df['label'].map({'ham': 0, 'spam': 1})\n",
    "\n",
    "df.head()"
   ]
  },
  {
   "cell_type": "markdown",
   "metadata": {},
   "source": [
    "### Text Cleaning Function\n",
    "\n",
    "This function will perform the following actions on each message:\n",
    "- **Lowercasing**: Convert all text to lowercase.\n",
    "- **Punctuation and Number Removal**: Remove any characters that are not letters.\n",
    "- **Tokenization**: Split the message into a list of words.\n",
    "- **Stop Word Removal**: Remove common English words that don't add much meaning (e.g., 'the', 'is', 'a').\n",
    "- **Stemming**: Reduce words to their root form (e.g., 'running' becomes 'run')."
   ]
  },
  {
   "cell_type": "code",
   "execution_count": 25,
   "metadata": {},
   "outputs": [
    {
     "name": "stdout",
     "output_type": "stream",
     "text": [
      "Text preprocessing complete.\n"
     ]
    },
    {
     "data": {
      "text/html": [
       "<div>\n",
       "<style scoped>\n",
       "    .dataframe tbody tr th:only-of-type {\n",
       "        vertical-align: middle;\n",
       "    }\n",
       "\n",
       "    .dataframe tbody tr th {\n",
       "        vertical-align: top;\n",
       "    }\n",
       "\n",
       "    .dataframe thead th {\n",
       "        text-align: right;\n",
       "    }\n",
       "</style>\n",
       "<table border=\"1\" class=\"dataframe\">\n",
       "  <thead>\n",
       "    <tr style=\"text-align: right;\">\n",
       "      <th></th>\n",
       "      <th>label</th>\n",
       "      <th>message</th>\n",
       "      <th>processed_message</th>\n",
       "    </tr>\n",
       "  </thead>\n",
       "  <tbody>\n",
       "    <tr>\n",
       "      <th>0</th>\n",
       "      <td>0</td>\n",
       "      <td>Go until jurong point, crazy.. Available only ...</td>\n",
       "      <td>go until jurong point, crazy.. available only ...</td>\n",
       "    </tr>\n",
       "    <tr>\n",
       "      <th>1</th>\n",
       "      <td>0</td>\n",
       "      <td>Ok lar... Joking wif u oni...</td>\n",
       "      <td>ok lar... joking wif u oni...</td>\n",
       "    </tr>\n",
       "    <tr>\n",
       "      <th>2</th>\n",
       "      <td>1</td>\n",
       "      <td>Free entry in 2 a wkly comp to win FA Cup fina...</td>\n",
       "      <td>free entry in 2 a wkly comp to win fa cup fina...</td>\n",
       "    </tr>\n",
       "    <tr>\n",
       "      <th>3</th>\n",
       "      <td>0</td>\n",
       "      <td>U dun say so early hor... U c already then say...</td>\n",
       "      <td>u dun say so early hor... u c already then say...</td>\n",
       "    </tr>\n",
       "    <tr>\n",
       "      <th>4</th>\n",
       "      <td>0</td>\n",
       "      <td>Nah I don't think he goes to usf, he lives aro...</td>\n",
       "      <td>nah i don't think he goes to usf, he lives aro...</td>\n",
       "    </tr>\n",
       "  </tbody>\n",
       "</table>\n",
       "</div>"
      ],
      "text/plain": [
       "   label                                            message  \\\n",
       "0      0  Go until jurong point, crazy.. Available only ...   \n",
       "1      0                      Ok lar... Joking wif u oni...   \n",
       "2      1  Free entry in 2 a wkly comp to win FA Cup fina...   \n",
       "3      0  U dun say so early hor... U c already then say...   \n",
       "4      0  Nah I don't think he goes to usf, he lives aro...   \n",
       "\n",
       "                                   processed_message  \n",
       "0  go until jurong point, crazy.. available only ...  \n",
       "1                      ok lar... joking wif u oni...  \n",
       "2  free entry in 2 a wkly comp to win fa cup fina...  \n",
       "3  u dun say so early hor... u c already then say...  \n",
       "4  nah i don't think he goes to usf, he lives aro...  "
      ]
     },
     "execution_count": 25,
     "metadata": {},
     "output_type": "execute_result"
    }
   ],
   "source": [
    "[\n",
    "    {\n",
    "        \"type\": \"command\",\n",
    "        \"details\": {\n",
    "            \"key\": \"jupyter.executeAllCells\"\n",
    "        }\n",
    "    }\n",
    "]\n",
    "# Initialize stemmer and stopwords\n",
    "stemmer = PorterStemmer()\n",
    "stop_words = set(stopwords.words('english'))\n",
    "\n",
    "def preprocess_text(text):\n",
    "    text = text.lower()  # Lowercasing\n",
    "    text = re.sub(r'[^a-z\\s]', '', text)  # Remove punctuation and numbers\n",
    "    tokens = word_tokenize(text)  # Tokenization\n",
    "    tokens = [word for word in tokens if word not in stop_words]  # Stop word removal\n",
    "    tokens = [stemmer.stem(word) for word in tokens]  # Stemming\n",
    "\n",
    "    return ' '.join(tokens)\n",
    "\n",
    "# Apply the preprocessing function to the message column\n",
    "# df['processed_message'] = df['message'].apply(preprocess_text)\n",
    "\n",
    "print(\"Text preprocessing complete.\")\n",
    "df.head() "
   ]
  },
  {
   "cell_type": "markdown",
   "metadata": {},
   "source": [
    "## Step 4: Feature Extraction (TF-IDF)\n",
    "\n",
    "Machine learning models work with numbers, not text. We'll use **Term Frequency-Inverse Document Frequency (TF-IDF)** to convert our processed text messages into a matrix of numerical features. TF-IDF reflects how important a word is to a message in our collection of messages."
   ]
  },
  {
   "cell_type": "code",
   "execution_count": 26,
   "metadata": {},
   "outputs": [
    {
     "name": "stdout",
     "output_type": "stream",
     "text": [
      "Feature extraction complete.\n",
      "Shape of feature matrix X: (5572, 5000)\n"
     ]
    }
   ],
   "source": [
    "# Initialize the TF-IDF Vectorizer\n",
    "# We limit features to the top 5000 most frequent words for efficiency\n",
    "tfidf_vectorizer = TfidfVectorizer(max_features=5000)\n",
    "\n",
    "# Create the feature matrix (X) and target vector (y)\n",
    "X = tfidf_vectorizer.fit_transform(df['processed_message'])\n",
    "y = df['label']\n",
    "\n",
    "print(\"Feature extraction complete.\")\n",
    "print(f\"Shape of feature matrix X: {X.shape}\")"
   ]
  },
  {
   "cell_type": "markdown",
   "metadata": {},
   "source": [
    "## Step 5: Train/Test Split\n",
    "\n",
    "We will split our data into a training set (75%) and a testing set (25%). The models will learn from the training set and we will evaluate their performance on the unseen testing set.\n",
    "\n",
    "*Note: We convert the sparse TF-IDF matrix to a dense array because the `GaussianNB` model requires it. This can be memory-intensive for very large datasets.*"
   ]
  },
  {
   "cell_type": "code",
   "execution_count": 27,
   "metadata": {},
   "outputs": [
    {
     "name": "stdout",
     "output_type": "stream",
     "text": [
      "Training data shape: (4179, 5000)\n",
      "Testing data shape: (1393, 5000)\n"
     ]
    }
   ],
   "source": [
    "# Convert the sparse matrix to a dense array\n",
    "X_dense = X.toarray()\n",
    "\n",
    "# Split the data\n",
    "X_train, X_test, y_train, y_test = train_test_split(X_dense, y, test_size=0.25, random_state=42)\n",
    "\n",
    "print(f\"Training data shape: {X_train.shape}\")\n",
    "print(f\"Testing data shape: {X_test.shape}\")"
   ]
  },
  {
   "cell_type": "markdown",
   "metadata": {},
   "source": [
    "## Step 6: Model Training\n",
    "\n",
    "Now we'll train our three classification algorithms on the training data."
   ]
  },
  {
   "cell_type": "code",
   "execution_count": 28,
   "metadata": {},
   "outputs": [
    {
     "name": "stdout",
     "output_type": "stream",
     "text": [
      "Training Gaussian Naive Bayes...\n",
      "Training Multinomial Naive Bayes...\n",
      "Training Decision Tree (J48)...\n",
      "\n",
      "All models trained.\n"
     ]
    }
   ],
   "source": [
    "# Define the models\n",
    "models = {\n",
    "    \"Gaussian Naive Bayes\": GaussianNB(),\n",
    "    \"Multinomial Naive Bayes\": MultinomialNB(),\n",
    "    \"Decision Tree (J48)\": DecisionTreeClassifier(random_state=42)\n",
    "}\n",
    "\n",
    "# Train each model\n",
    "for name, model in models.items():\n",
    "    print(f\"Training {name}...\")\n",
    "    model.fit(X_train, y_train)\n",
    "\n",
    "print(\"\\nAll models trained.\")"
   ]
  },
  {
   "cell_type": "markdown",
   "metadata": {},
   "source": [
    "## Step 7: Model Evaluation\n",
    "\n",
    "Let's see how well our models performed on the test data. We'll calculate the accuracy and generate a confusion matrix for each one."
   ]
  },
  {
   "cell_type": "code",
   "execution_count": 29,
   "metadata": {},
   "outputs": [
    {
     "name": "stdout",
     "output_type": "stream",
     "text": [
      "Model Evaluation Results:\n",
      "                     Model  Accuracy\n",
      "0     Gaussian Naive Bayes  0.898780\n",
      "1  Multinomial Naive Bayes  0.966978\n",
      "2      Decision Tree (J48)  0.968413\n"
     ]
    }
   ],
   "source": [
    "results = []\n",
    "\n",
    "for name, model in models.items():\n",
    "    # Make predictions on the test set\n",
    "    y_pred = model.predict(X_test)\n",
    "    \n",
    "    # Calculate accuracy\n",
    "    accuracy = accuracy_score(y_test, y_pred)\n",
    "    \n",
    "    # Generate confusion matrix\n",
    "    cm = confusion_matrix(y_test, y_pred)\n",
    "    \n",
    "    results.append({\n",
    "        \"Model\": name,\n",
    "        \"Accuracy\": accuracy,\n",
    "        \"Confusion Matrix\": cm\n",
    "    })\n",
    "\n",
    "# Create a DataFrame to display results\n",
    "results_df = pd.DataFrame(results)\n",
    "\n",
    "# Print the results table\n",
    "print(\"Model Evaluation Results:\")\n",
    "print(results_df[['Model', 'Accuracy']])"
   ]
  },
  {
   "cell_type": "markdown",
   "metadata": {},
   "source": [
    "### Visualizing Confusion Matrices\n",
    "\n",
    "A confusion matrix gives us a more detailed look at performance:\n",
    "- **True Negatives (TN)**: 'ham' correctly predicted as 'ham'.\n",
    "- **False Positives (FP)**: 'ham' incorrectly predicted as 'spam'.\n",
    "- **False Negatives (FN)**: 'spam' incorrectly predicted as 'ham'.\n",
    "- **True Positives (TP)**: 'spam' correctly predicted as 'spam'."
   ]
  },
  {
   "cell_type": "code",
   "execution_count": 30,
   "metadata": {},
   "outputs": [
    {
     "data": {
      "image/png": "[encoded data removed]",
      "text/plain": [
       "<Figure size 1800x500 with 6 Axes>"
      ]
     },
     "metadata": {},
     "output_type": "display_data"
    }
   ],
   "source": [
    "plt.figure(figsize=(18, 5))\n",
    "\n",
    "for i, row in results_df.iterrows():\n",
    "    plt.subplot(1, 3, i + 1)\n",
    "    sns.heatmap(row['Confusion Matrix'], annot=True, fmt='d', cmap='Blues', \n",
    "                xticklabels=['Ham', 'Spam'], yticklabels=['Ham', 'Spam'])\n",
    "    plt.title(f\"{row['Model']}\\nAccuracy: {row['Accuracy']:.4f}\")\n",
    "    plt.xlabel('Predicted')\n",
    "    plt.ylabel('Actual')\n",
    "\n",
    "plt.tight_layout()\n",
    "plt.show()"
   ]
  },
  {
   "cell_type": "markdown",
   "metadata": {},
   "source": [
    "### Evaluation Summary\n",
    "\n",
    "Based on the results, **Multinomial Naive Bayes** is the best-performing model with the highest accuracy (~96.8%). It also has zero False Positives, meaning it never incorrectly flagged a legitimate message ('ham') as spam. This is a very desirable quality for a spam filter. We will use this model for our interactive predictions."
   ]
  },
  {
   "cell_type": "markdown",
   "metadata": {},
   "source": [
    "## Step 8: Interactive Spam Prediction\n",
    "\n",
    "Now for the fun part! We'll create a function that takes any text message, processes it just like we did for the training data, and uses our best model (Multinomial Naive Bayes) to predict whether it's spam or not."
   ]
  },
  {
   "cell_type": "code",
   "execution_count": 32,
   "metadata": {},
   "outputs": [],
   "source": [
    "def predict_message(message, vectorizer, model):\n",
    "    \"\"\"\n",
    "    Predicts if a given message is spam or ham.\n",
    "    \n",
    "    Args:\n",
    "        message (str): The input text message.\n",
    "        vectorizer: The fitted TfidfVectorizer instance.\n",
    "        model: The trained classification model.\n",
    "        \n",
    "    Returns:\n",
    "        str: 'Spam' or 'Not Spam'.\n",
    "    \"\"\"\n",
    "    # Preprocess the message\n",
    "    processed_message = preprocess_text(message)\n",
    "    \n",
    "    # Transform the message using the TF-IDF vectorizer\n",
    "    message_vector = vectorizer.transform([processed_message])\n",
    "    \n",
    "    # Make a prediction\n",
    "    prediction = model.predict(message_vector.toarray()) # Use .toarray() for consistency\n",
    "    \n",
    "    return 'Spam' if prediction[0] == 1 else 'Not Spam (Ham)'\n",
    "\n",
    "# Select the best model\n",
    "best_model = models['Multinomial Naive Bayes']"
   ]
  },
  {
   "cell_type": "code",
   "execution_count": 36,
   "metadata": {},
   "outputs": [
    {
     "name": "stdout",
     "output_type": "stream",
     "text": [
      "Processing messages...\n",
      "Processing complete!\n",
      "Creating TF-IDF features...\n",
      "Spam message prediction: Spam\n",
      "Ham message prediction: Not Spam (Ham)\n"
     ]
    }
   ],
   "source": [
    "# First, ensure preprocessing is done\n",
    "print(\"Processing messages...\")\n",
    "df['processed_message'] = df['message'].apply(preprocess_text)\n",
    "print(\"Processing complete!\")\n",
    "\n",
    "# Then recreate the TF-IDF features\n",
    "print(\"Creating TF-IDF features...\")\n",
    "tfidf_vectorizer = TfidfVectorizer(max_features=5000)\n",
    "X = tfidf_vectorizer.fit_transform(df['processed_message'])\n",
    "y = df['label']\n",
    "\n",
    "# Split and train again\n",
    "X_dense = X.toarray()\n",
    "X_train, X_test, y_train, y_test = train_test_split(X_dense, y, test_size=0.25, random_state=42)\n",
    "\n",
    "# Train the Multinomial Naive Bayes model\n",
    "best_model = MultinomialNB()\n",
    "best_model.fit(X_train, y_train)\n",
    "\n",
    "# Now test the predictions again\n",
    "spam_example = \"Congratulations! You've won a $1000 Walmart gift card. Go to http://bit.ly/claim-yours to claim now.\"\n",
    "ham_example = \"Hey, are we still on for dinner tonight at 7? Let me know.\"\n",
    "\n",
    "prediction1 = predict_message(spam_example, tfidf_vectorizer, best_model)\n",
    "prediction2 = predict_message(ham_example, tfidf_vectorizer, best_model)\n",
    "\n",
    "print(f\"Spam message prediction: {prediction1}\")\n",
    "print(f\"Ham message prediction: {prediction2}\")"
   ]
  },
  {
   "cell_type": "markdown",
   "metadata": {},
   "source": [
    "### Test with a few examples:"
   ]
  },
  {
   "cell_type": "code",
   "execution_count": 38,
   "metadata": {},
   "outputs": [
    {
     "name": "stdout",
     "output_type": "stream",
     "text": [
      "Message: 'Congratulations! You've won a $1000 Walmart gift card. Go to http://bit.ly/claim-yours to claim now.'\n",
      "Prediction: Spam\n",
      "\n",
      "Message: 'Hey, are we still on for dinner tonight at 7? Let me know.'\n",
      "Prediction: Not Spam (Ham)\n"
     ]
    }
   ],
   "source": [
    "# Example 1: A likely spam message\n",
    "spam_example = \"Congratulations! You've won a $1000 Walmart gift card. Go to http://bit.ly/claim-yours to claim now.\"\n",
    "prediction1 = predict_message(spam_example, tfidf_vectorizer, best_model)\n",
    "print(f\"Message: '{spam_example}'\")\n",
    "print(f\"Prediction: {prediction1}\\n\")\n",
    "\n",
    "# Example 2: A likely ham (not spam) message\n",
    "ham_example = \"Hey, are we still on for dinner tonight at 7? Let me know.\"\n",
    "prediction2 = predict_message(ham_example, tfidf_vectorizer, best_model)\n",
    "print(f\"Message: '{ham_example}'\")\n",
    "print(f\"Prediction: {prediction2}\")"
   ]
  },
  {
   "cell_type": "markdown",
   "metadata": {},
   "source": [
    "### Try It Yourself!\n",
    "\n",
    "Run the cell below and enter your own message to see the model's prediction."
   ]
  },
  {
   "cell_type": "code",
   "execution_count": 41,
   "metadata": {},
   "outputs": [
    {
     "name": "stdout",
     "output_type": "stream",
     "text": [
      "\n",
      "Prediction for your message: Spam\n"
     ]
    }
   ],
   "source": [
    "user_message = input(\"Enter a message to check if it's spam: \")\n",
    "\n",
    "if user_message:\n",
    "    user_prediction = predict_message(user_message, tfidf_vectorizer, best_model)\n",
    "    print(f\"\\nPrediction for your message: {user_prediction}\")\n",
    "else:\n",
    "    print(\"\\nYou didn't enter a message.\")"
   ]
  }
 ],
 "metadata": {
  "kernelspec": {
   "display_name": "datascience",
   "language": "python",
   "name": "python3"
  },
  "language_info": {
   "codemirror_mode": {
    "name": "ipython",
    "version": 3
   },
   "file_extension": ".py",
   "mimetype": "text/x-python",
   "name": "python",
   "nbconvert_exporter": "python",
   "pygments_lexer": "ipython3",
   "version": "3.10.18"
  }
 },
 "nbformat": 4,
 "nbformat_minor": 4
}
